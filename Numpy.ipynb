{
 "cells": [
  {
   "cell_type": "code",
   "execution_count": 1,
   "id": "629238b7",
   "metadata": {},
   "outputs": [
    {
     "name": "stdout",
     "output_type": "stream",
     "text": [
      "[[1 2 3 4]\n",
      " [5 6 7 8]]\n"
     ]
    }
   ],
   "source": [
    "import numpy as np\n",
    "a=np.array( [ [ 1,2,3,4 ],[ 5,6,7,8 ] ] )\n",
    "print (a)"
   ]
  },
  {
   "cell_type": "code",
   "execution_count": 2,
   "id": "9f267a15",
   "metadata": {},
   "outputs": [
    {
     "name": "stdout",
     "output_type": "stream",
     "text": [
      "2\n"
     ]
    }
   ],
   "source": [
    "import numpy as np\n",
    "a=np.array( [ [ 1,2,3,4 ],[ 5,6,7,8 ] ] )\n",
    "print (a[0,1])"
   ]
  },
  {
   "cell_type": "code",
   "execution_count": 3,
   "id": "a3da4863",
   "metadata": {},
   "outputs": [
    {
     "name": "stdout",
     "output_type": "stream",
     "text": [
      "[1 2 3 4]\n"
     ]
    }
   ],
   "source": [
    "import numpy as np\n",
    "a=np.array( [ [ 1,2,3,4 ]] )\n",
    "print (a[0])\n"
   ]
  },
  {
   "cell_type": "code",
   "execution_count": 4,
   "id": "2c1f9158",
   "metadata": {},
   "outputs": [
    {
     "name": "stdout",
     "output_type": "stream",
     "text": [
      "1\n"
     ]
    }
   ],
   "source": [
    "import numpy as np\n",
    "a=np.array( [ [ 1,2,3,4 ],[ 5,6,7,8 ] ,[1,5,9,10]] )\n",
    "print (a[2,0])"
   ]
  },
  {
   "cell_type": "code",
   "execution_count": 5,
   "id": "f3dfa8f3",
   "metadata": {},
   "outputs": [
    {
     "name": "stdout",
     "output_type": "stream",
     "text": [
      "(2, 4)\n"
     ]
    }
   ],
   "source": [
    "import numpy as np\n",
    "a=np.array( [ [ 1,2,3,4 ],[ 5,6,7,8 ] ] )\n",
    "print (a.shape)"
   ]
  }
 ],
 "metadata": {
  "kernelspec": {
   "display_name": "Python 3 (ipykernel)",
   "language": "python",
   "name": "python3"
  },
  "language_info": {
   "codemirror_mode": {
    "name": "ipython",
    "version": 3
   },
   "file_extension": ".py",
   "mimetype": "text/x-python",
   "name": "python",
   "nbconvert_exporter": "python",
   "pygments_lexer": "ipython3",
   "version": "3.9.12"
  }
 },
 "nbformat": 4,
 "nbformat_minor": 5
}
