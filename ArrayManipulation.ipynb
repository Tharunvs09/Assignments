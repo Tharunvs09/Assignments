{
 "cells": [
  {
   "cell_type": "code",
   "execution_count": 2,
   "id": "eea4fadc",
   "metadata": {},
   "outputs": [
    {
     "name": "stdout",
     "output_type": "stream",
     "text": [
      "5 3\n",
      "1 5 3\n",
      "[3, 0, 0, 0, 0, 0]\n",
      "4 8 7\n",
      "[3, 0, 0, 7, 0, 0]\n",
      "6 9 1\n",
      "[3, 0, 0, 7, 0, 1]\n",
      "11\n"
     ]
    }
   ],
   "source": [
    "n, m = map(int, input().split())\n",
    "a = [0]*(n+1)\n",
    "m_val = temp = 0\n",
    "for _ in range(m):\n",
    "    f, l, val = [int(n) for n in input().split()]\n",
    "    a[f-1] += val\n",
    "    if l < n:\n",
    "        a[l] -= val\n",
    "    print(a)\n",
    "for i in a:\n",
    "    temp += i\n",
    "    if m_val < temp:\n",
    "        m_val = temp\n",
    "print(m_val)"
   ]
  },
  {
   "cell_type": "code",
   "execution_count": null,
   "id": "5c60796e",
   "metadata": {},
   "outputs": [],
   "source": []
  }
 ],
 "metadata": {
  "kernelspec": {
   "display_name": "Python 3 (ipykernel)",
   "language": "python",
   "name": "python3"
  },
  "language_info": {
   "codemirror_mode": {
    "name": "ipython",
    "version": 3
   },
   "file_extension": ".py",
   "mimetype": "text/x-python",
   "name": "python",
   "nbconvert_exporter": "python",
   "pygments_lexer": "ipython3",
   "version": "3.9.12"
  }
 },
 "nbformat": 4,
 "nbformat_minor": 5
}
